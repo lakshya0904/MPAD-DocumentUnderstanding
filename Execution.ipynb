{
  "nbformat": 4,
  "nbformat_minor": 0,
  "metadata": {
    "colab": {
      "name": "Execution",
      "provenance": [],
      "collapsed_sections": []
    },
    "kernelspec": {
      "name": "python3",
      "display_name": "Python 3"
    }
  },
  "cells": [
    {
      "cell_type": "markdown",
      "metadata": {
        "id": "9Szn2FGbqcsN"
      },
      "source": [
        "* Downolad and Unzip word2vec embeddings(avialable publicly on google drive at https://drive.google.com/file/d/0B7XkCwpI5KDYNlNUTTlSS21pQmM/view?usp=sharing  )\n",
        "* Also download the datasets from https://drive.google.com/drive/folders/1x8ZKWl3JQl687d5Zg3Lf4Kfi-IRgkaPA?usp=sharing\n",
        "* Change the file directories in the command accordingly for execution \n",
        "* **For executing on system, remove the entire cd command and use the right-most part**"
      ]
    },
    {
      "cell_type": "markdown",
      "metadata": {
        "id": "csXErOyfpETD"
      },
      "source": [
        "# Vanilla MPAD - Polarity"
      ]
    },
    {
      "cell_type": "code",
      "metadata": {
        "id": "J3vuTMyfpEBe"
      },
      "source": [
        "!cd /content/drive/My\\ Drive/NNFLAssignmentPaperImplementation/mpad && python main_crossval.py --path-to-dataset '/content/drive/My Drive/NNFLAssignmentPaperImplementation/datasets/rt-polarity.txt' --name-of-dataset 'Polarity basic' --path-to-embeddings /content/drive/My\\ Drive/NNFLAssignmentPaperImplementation/GoogleNews-vectors-negative300.bin"
      ],
      "execution_count": null,
      "outputs": []
    },
    {
      "cell_type": "markdown",
      "metadata": {
        "id": "nZYp9KjVpPyt"
      },
      "source": [
        "# Hierarchical MPAD(Sentence Attenuation)- Polarity\n"
      ]
    },
    {
      "cell_type": "code",
      "metadata": {
        "id": "Y-c1kkZfpiO8"
      },
      "source": [
        "!cd /content/drive/My\\ Drive/NNFLAssignmentPaperImplementation/hierarchical_mpad && python hmain_crossval.py --path-to-dataset '/content/drive/My Drive/NNFLAssignmentPaperImplementation/datasets/rt-polarity.txt' --name-of-dataset 'Polarity sentence-att' --path-to-embeddings /content/drive/My\\ Drive/NNFLAssignmentPaperImplementation/GoogleNews-vectors-negative300.bin"
      ],
      "execution_count": null,
      "outputs": []
    },
    {
      "cell_type": "markdown",
      "metadata": {
        "id": "NvFSgorzpj1n"
      },
      "source": [
        "#Vanilla MPAD - TREC\n",
        "\n"
      ]
    },
    {
      "cell_type": "code",
      "metadata": {
        "id": "1-Cs59itpwzA"
      },
      "source": [
        "!cd /content/drive/My\\ Drive/NNFLAssignmentPaperImplementation/mpad && python main_test.py  --name-of-dataset 'TREC basic' --take-test  --path-to-test-dataset '/content/drive/My Drive/NNFLAssignmentPaperImplementation/datasets/tab_trec_test.txt' --path-to-dataset '/content/drive/My Drive/NNFLAssignmentPaperImplementation/datasets/tab_trec_train_n_test.txt' --path-to-embeddings /content/drive/My\\ Drive/NNFLAssignmentPaperImplementation/GoogleNews-vectors-negative300.bin"
      ],
      "execution_count": null,
      "outputs": []
    },
    {
      "cell_type": "markdown",
      "metadata": {
        "id": "Rgm3wL2kpyWZ"
      },
      "source": [
        "# Hierarchical MPAD(Sentence Attenuation)- TREC"
      ]
    },
    {
      "cell_type": "code",
      "metadata": {
        "id": "9gAjrZFhpqbJ"
      },
      "source": [
        "!cd /content/drive/My\\ Drive/NNFLAssignmentPaperImplementation/hierarchical_mpad && python h_main_test.py  --name-of-dataset 'TREC hierarch' --take-test  --path-to-test-dataset '/content/drive/My Drive/NNFLAssignmentPaperImplementation/datasets/tab_trec_test.txt' --path-to-dataset '/content/drive/My Drive/NNFLAssignmentPaperImplementation/datasets/tab_trec_train_n_test.txt' --path-to-embeddings /content/drive/My\\ Drive/NNFLAssignmentPaperImplementation/GoogleNews-vectors-negative300.bin"
      ],
      "execution_count": null,
      "outputs": []
    },
    {
      "cell_type": "markdown",
      "metadata": {
        "id": "iXMZYT0Sp5Qx"
      },
      "source": [
        "# Vanilla MPAD - SST1"
      ]
    },
    {
      "cell_type": "code",
      "metadata": {
        "id": "deF4Djtkp73S"
      },
      "source": [
        "!cd /content/drive/My\\ Drive/NNFLAssignmentPaperImplementation/mpad && python main_test.py --name-of-dataset 'SST1 basic' --take-test --path-to-test-dataset '/content/drive/My Drive/NNFLAssignmentPaperImplementation/datasets/tab_sst1_test.txt' --path-to-dataset '/content/drive/My Drive/NNFLAssignmentPaperImplementation/datasets/tab_sst1_train_n_test.txt' --path-to-embeddings /content/drive/My\\ Drive/NNFLAssignmentPaperImplementation/GoogleNews-vectors-negative300.bin"
      ],
      "execution_count": null,
      "outputs": []
    },
    {
      "cell_type": "markdown",
      "metadata": {
        "id": "Dgjnh9mip_fW"
      },
      "source": [
        "# Hierarchical MPAD(Sentence Attenuation)- SST1\n",
        "\n"
      ]
    },
    {
      "cell_type": "code",
      "metadata": {
        "id": "bdZ2oQh7qDB-"
      },
      "source": [
        "!cd /content/drive/My\\ Drive/NNFLAssignmentPaperImplementation/hierarchical_mpad && python h_main_test.py --name-of-dataset 'SST1 hierarchial atten' --take-test --path-to-test-dataset '/content/drive/My Drive/NNFLAssignmentPaperImplementation/datasets/tab_sst1_test.txt' --path-to-dataset '/content/drive/My Drive/NNFLAssignmentPaperImplementation/datasets/tab_sst1_train_n_test.txt' --path-to-embeddings /content/drive/My\\ Drive/NNFLAssignmentPaperImplementation/GoogleNews-vectors-negative300.bin"
      ],
      "execution_count": null,
      "outputs": []
    },
    {
      "cell_type": "markdown",
      "metadata": {
        "id": "eb2ShGYCqFWS"
      },
      "source": [
        "# Ablation Studies - Polarity"
      ]
    },
    {
      "cell_type": "markdown",
      "metadata": {
        "id": "pb6edWpNqOjP"
      },
      "source": [
        "### NO MASTER NODE"
      ]
    },
    {
      "cell_type": "code",
      "metadata": {
        "id": "cWsZgADuqM16"
      },
      "source": [
        "!cd /content/drive/My\\ Drive/NNFLAssignmentPaperImplementation/mpad && python main_crossval.py --use-master-node 'False' --name-of-dataset 'Polarity master node'  --path-to-dataset '/content/drive/My Drive/NNFLAssignmentPaperImplementation/datasets/rt-polarity.txt' --path-to-embeddings /content/drive/My\\ Drive/NNFLAssignmentPaperImplementation/GoogleNews-vectors-negative300.bin"
      ],
      "execution_count": null,
      "outputs": []
    },
    {
      "cell_type": "markdown",
      "metadata": {
        "id": "lxGPDVVRqUUL"
      },
      "source": [
        "### UNDIRECTED EDGES"
      ]
    },
    {
      "cell_type": "code",
      "metadata": {
        "id": "W91Ktn16qD06"
      },
      "source": [
        "!cd /content/drive/My\\ Drive/NNFLAssignmentPaperImplementation/mpad && python main_crossval.py --directed 'False' --name-of-dataset 'Polarity directed'  --path-to-dataset '/content/drive/My Drive/NNFLAssignmentPaperImplementation/datasets/rt-polarity.txt' --path-to-embeddings /content/drive/My\\ Drive/NNFLAssignmentPaperImplementation/GoogleNews-vectors-negative300.bin"
      ],
      "execution_count": null,
      "outputs": []
    }
  ]
}